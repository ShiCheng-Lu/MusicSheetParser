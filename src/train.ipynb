{
 "cells": [
  {
   "cell_type": "code",
   "execution_count": 1,
   "metadata": {},
   "outputs": [
    {
     "name": "stdout",
     "output_type": "stream",
     "text": [
      "cuda NVIDIA GeForce GTX 1080 Ti\n",
      "1.12.1+cu116\n",
      "0.13.1+cu116\n"
     ]
    }
   ],
   "source": [
    "from model.model import MusicSymbolDetector\n",
    "from model.dataset import MusicSheetDataSet"
   ]
  },
  {
   "cell_type": "code",
   "execution_count": 2,
   "metadata": {},
   "outputs": [
    {
     "data": {
      "image/png": "[encoded data removed]",
      "text/plain": [
       "<Figure size 640x480 with 1 Axes>"
      ]
     },
     "metadata": {},
     "output_type": "display_data"
    }
   ],
   "source": [
    "dataset = MusicSheetDataSet(\"../ds2_dense\", \"train\")\n",
    "dataset.showLabels(0)"
   ]
  },
  {
   "cell_type": "code",
   "execution_count": 3,
   "metadata": {},
   "outputs": [],
   "source": [
    "model = MusicSymbolDetector()"
   ]
  },
  {
   "cell_type": "code",
   "execution_count": 4,
   "metadata": {},
   "outputs": [
    {
     "name": "stderr",
     "output_type": "stream",
     "text": [
      "100%|██████████| 10000/10000 [24:56<00:00,  6.68it/s]\n"
     ]
    },
    {
     "name": "stdout",
     "output_type": "stream",
     "text": [
      "Epoch   1, lr: 0.001000, loss: 0.871436, loss_classifier: 0.301818, loss_box_reg: 0.213760, loss_objectness: 0.124650, loss_rpn_box_reg: 0.231208\n"
     ]
    },
    {
     "name": "stderr",
     "output_type": "stream",
     "text": [
      "100%|██████████| 10000/10000 [25:41<00:00,  6.49it/s]\n"
     ]
    },
    {
     "name": "stdout",
     "output_type": "stream",
     "text": [
      "Epoch   2, lr: 0.001000, loss: 0.541113, loss_classifier: 0.156567, loss_box_reg: 0.159846, loss_objectness: 0.071775, loss_rpn_box_reg: 0.152925\n"
     ]
    },
    {
     "name": "stderr",
     "output_type": "stream",
     "text": [
      "100%|██████████| 10000/10000 [26:06<00:00,  6.39it/s]\n"
     ]
    },
    {
     "name": "stdout",
     "output_type": "stream",
     "text": [
      "Epoch   3, lr: 0.001000, loss: 0.465175, loss_classifier: 0.122957, loss_box_reg: 0.142459, loss_objectness: 0.063147, loss_rpn_box_reg: 0.136612\n"
     ]
    },
    {
     "name": "stderr",
     "output_type": "stream",
     "text": [
      "100%|██████████| 10000/10000 [26:13<00:00,  6.35it/s]\n"
     ]
    },
    {
     "name": "stdout",
     "output_type": "stream",
     "text": [
      "Epoch   4, lr: 0.001000, loss: 0.406985, loss_classifier: 0.103548, loss_box_reg: 0.129451, loss_objectness: 0.052848, loss_rpn_box_reg: 0.121138\n"
     ]
    },
    {
     "name": "stderr",
     "output_type": "stream",
     "text": [
      "100%|██████████| 10000/10000 [26:08<00:00,  6.38it/s]\n"
     ]
    },
    {
     "name": "stdout",
     "output_type": "stream",
     "text": [
      "Epoch   5, lr: 0.001000, loss: 0.365636, loss_classifier: 0.090002, loss_box_reg: 0.119353, loss_objectness: 0.046282, loss_rpn_box_reg: 0.109999\n"
     ]
    },
    {
     "name": "stderr",
     "output_type": "stream",
     "text": [
      "100%|██████████| 10000/10000 [26:30<00:00,  6.29it/s]\n"
     ]
    },
    {
     "name": "stdout",
     "output_type": "stream",
     "text": [
      "Epoch   6, lr: 0.001000, loss: 0.344738, loss_classifier: 0.084539, loss_box_reg: 0.115716, loss_objectness: 0.041834, loss_rpn_box_reg: 0.102649\n"
     ]
    },
    {
     "name": "stderr",
     "output_type": "stream",
     "text": [
      "100%|██████████| 10000/10000 [26:21<00:00,  6.32it/s]\n"
     ]
    },
    {
     "name": "stdout",
     "output_type": "stream",
     "text": [
      "Epoch   7, lr: 0.001000, loss: 0.321386, loss_classifier: 0.076285, loss_box_reg: 0.109724, loss_objectness: 0.038043, loss_rpn_box_reg: 0.097335\n"
     ]
    },
    {
     "name": "stderr",
     "output_type": "stream",
     "text": [
      "100%|██████████| 10000/10000 [26:56<00:00,  6.19it/s]\n"
     ]
    },
    {
     "name": "stdout",
     "output_type": "stream",
     "text": [
      "Epoch   8, lr: 0.001000, loss: 0.304725, loss_classifier: 0.072285, loss_box_reg: 0.105597, loss_objectness: 0.036677, loss_rpn_box_reg: 0.090165\n"
     ]
    },
    {
     "name": "stderr",
     "output_type": "stream",
     "text": [
      "100%|██████████| 10000/10000 [27:01<00:00,  6.17it/s]\n"
     ]
    },
    {
     "name": "stdout",
     "output_type": "stream",
     "text": [
      "Epoch   9, lr: 0.001000, loss: 0.303634, loss_classifier: 0.071167, loss_box_reg: 0.105567, loss_objectness: 0.035661, loss_rpn_box_reg: 0.091238\n"
     ]
    },
    {
     "name": "stderr",
     "output_type": "stream",
     "text": [
      "100%|██████████| 10000/10000 [26:39<00:00,  6.25it/s]\n"
     ]
    },
    {
     "name": "stdout",
     "output_type": "stream",
     "text": [
      "Epoch  10, lr: 0.001000, loss: 0.291344, loss_classifier: 0.068204, loss_box_reg: 0.102576, loss_objectness: 0.034922, loss_rpn_box_reg: 0.085641\n"
     ]
    },
    {
     "name": "stderr",
     "output_type": "stream",
     "text": [
      "  0%|          | 22/10000 [00:03<24:56,  6.67it/s]\n"
     ]
    },
    {
     "ename": "KeyboardInterrupt",
     "evalue": "",
     "output_type": "error",
     "traceback": [
      "\u001b[1;31m---------------------------------------------------------------------------\u001b[0m",
      "\u001b[1;31mKeyboardInterrupt\u001b[0m                         Traceback (most recent call last)",
      "Cell \u001b[1;32mIn [4], line 1\u001b[0m\n\u001b[1;32m----> 1\u001b[0m \u001b[43mmodel\u001b[49m\u001b[38;5;241;43m.\u001b[39;49m\u001b[43mtrain\u001b[49m\u001b[43m(\u001b[49m\u001b[43mdataset\u001b[49m\u001b[43m,\u001b[49m\u001b[43m \u001b[49m\u001b[38;5;241;43m50\u001b[39;49m\u001b[43m)\u001b[49m\n",
      "File \u001b[1;32mc:\\Users\\shich\\Code\\music-sheet-parser\\src\\model\\model.py:96\u001b[0m, in \u001b[0;36mMusicSymbolDetector.train\u001b[1;34m(self, dataset, epochs, transform)\u001b[0m\n\u001b[0;32m     <a href='file:///c%3A/Users/shich/Code/music-sheet-parser/src/model/model.py?line=87'>88</a>\u001b[0m all_losses_dict \u001b[39m=\u001b[39m {}\n\u001b[0;32m     <a href='file:///c%3A/Users/shich/Code/music-sheet-parser/src/model/model.py?line=89'>90</a>\u001b[0m dataloader \u001b[39m=\u001b[39m DataLoader(\n\u001b[0;32m     <a href='file:///c%3A/Users/shich/Code/music-sheet-parser/src/model/model.py?line=90'>91</a>\u001b[0m     dataset\u001b[39m.\u001b[39mrandom(\u001b[39m10000\u001b[39m),\n\u001b[0;32m     <a href='file:///c%3A/Users/shich/Code/music-sheet-parser/src/model/model.py?line=91'>92</a>\u001b[0m     collate_fn\u001b[39m=\u001b[39m\u001b[39mlambda\u001b[39;00m x : \u001b[39mzip\u001b[39m(\u001b[39m*\u001b[39mx),\n\u001b[0;32m     <a href='file:///c%3A/Users/shich/Code/music-sheet-parser/src/model/model.py?line=92'>93</a>\u001b[0m     shuffle \u001b[39m=\u001b[39m \u001b[39mTrue\u001b[39;00m\n\u001b[0;32m     <a href='file:///c%3A/Users/shich/Code/music-sheet-parser/src/model/model.py?line=93'>94</a>\u001b[0m )\n\u001b[1;32m---> <a href='file:///c%3A/Users/shich/Code/music-sheet-parser/src/model/model.py?line=95'>96</a>\u001b[0m \u001b[39mfor\u001b[39;00m images, targets \u001b[39min\u001b[39;00m tqdm(dataloader):\n\u001b[0;32m     <a href='file:///c%3A/Users/shich/Code/music-sheet-parser/src/model/model.py?line=96'>97</a>\u001b[0m     \u001b[39mif\u001b[39;00m transform \u001b[39m!=\u001b[39m \u001b[39mNone\u001b[39;00m:\n\u001b[0;32m     <a href='file:///c%3A/Users/shich/Code/music-sheet-parser/src/model/model.py?line=97'>98</a>\u001b[0m         images, targets \u001b[39m=\u001b[39m transform(images, targets, dataset)\n",
      "File \u001b[1;32m~\\AppData\\Roaming\\Python\\Python310\\site-packages\\tqdm\\std.py:1195\u001b[0m, in \u001b[0;36mtqdm.__iter__\u001b[1;34m(self)\u001b[0m\n\u001b[0;32m   <a href='file:///c%3A/Users/shich/AppData/Roaming/Python/Python310/site-packages/tqdm/std.py?line=1191'>1192</a>\u001b[0m time \u001b[39m=\u001b[39m \u001b[39mself\u001b[39m\u001b[39m.\u001b[39m_time\n\u001b[0;32m   <a href='file:///c%3A/Users/shich/AppData/Roaming/Python/Python310/site-packages/tqdm/std.py?line=1193'>1194</a>\u001b[0m \u001b[39mtry\u001b[39;00m:\n\u001b[1;32m-> <a href='file:///c%3A/Users/shich/AppData/Roaming/Python/Python310/site-packages/tqdm/std.py?line=1194'>1195</a>\u001b[0m     \u001b[39mfor\u001b[39;00m obj \u001b[39min\u001b[39;00m iterable:\n\u001b[0;32m   <a href='file:///c%3A/Users/shich/AppData/Roaming/Python/Python310/site-packages/tqdm/std.py?line=1195'>1196</a>\u001b[0m         \u001b[39myield\u001b[39;00m obj\n\u001b[0;32m   <a href='file:///c%3A/Users/shich/AppData/Roaming/Python/Python310/site-packages/tqdm/std.py?line=1196'>1197</a>\u001b[0m         \u001b[39m# Update and possibly print the progressbar.\u001b[39;00m\n\u001b[0;32m   <a href='file:///c%3A/Users/shich/AppData/Roaming/Python/Python310/site-packages/tqdm/std.py?line=1197'>1198</a>\u001b[0m         \u001b[39m# Note: does not call self.update(1) for speed optimisation.\u001b[39;00m\n",
      "File \u001b[1;32m~\\AppData\\Roaming\\Python\\Python310\\site-packages\\torch\\utils\\data\\dataloader.py:681\u001b[0m, in \u001b[0;36m_BaseDataLoaderIter.__next__\u001b[1;34m(self)\u001b[0m\n\u001b[0;32m    <a href='file:///c%3A/Users/shich/AppData/Roaming/Python/Python310/site-packages/torch/utils/data/dataloader.py?line=677'>678</a>\u001b[0m \u001b[39mif\u001b[39;00m \u001b[39mself\u001b[39m\u001b[39m.\u001b[39m_sampler_iter \u001b[39mis\u001b[39;00m \u001b[39mNone\u001b[39;00m:\n\u001b[0;32m    <a href='file:///c%3A/Users/shich/AppData/Roaming/Python/Python310/site-packages/torch/utils/data/dataloader.py?line=678'>679</a>\u001b[0m     \u001b[39m# TODO(https://github.com/pytorch/pytorch/issues/76750)\u001b[39;00m\n\u001b[0;32m    <a href='file:///c%3A/Users/shich/AppData/Roaming/Python/Python310/site-packages/torch/utils/data/dataloader.py?line=679'>680</a>\u001b[0m     \u001b[39mself\u001b[39m\u001b[39m.\u001b[39m_reset()  \u001b[39m# type: ignore[call-arg]\u001b[39;00m\n\u001b[1;32m--> <a href='file:///c%3A/Users/shich/AppData/Roaming/Python/Python310/site-packages/torch/utils/data/dataloader.py?line=680'>681</a>\u001b[0m data \u001b[39m=\u001b[39m \u001b[39mself\u001b[39;49m\u001b[39m.\u001b[39;49m_next_data()\n\u001b[0;32m    <a href='file:///c%3A/Users/shich/AppData/Roaming/Python/Python310/site-packages/torch/utils/data/dataloader.py?line=681'>682</a>\u001b[0m \u001b[39mself\u001b[39m\u001b[39m.\u001b[39m_num_yielded \u001b[39m+\u001b[39m\u001b[39m=\u001b[39m \u001b[39m1\u001b[39m\n\u001b[0;32m    <a href='file:///c%3A/Users/shich/AppData/Roaming/Python/Python310/site-packages/torch/utils/data/dataloader.py?line=682'>683</a>\u001b[0m \u001b[39mif\u001b[39;00m \u001b[39mself\u001b[39m\u001b[39m.\u001b[39m_dataset_kind \u001b[39m==\u001b[39m _DatasetKind\u001b[39m.\u001b[39mIterable \u001b[39mand\u001b[39;00m \\\n\u001b[0;32m    <a href='file:///c%3A/Users/shich/AppData/Roaming/Python/Python310/site-packages/torch/utils/data/dataloader.py?line=683'>684</a>\u001b[0m         \u001b[39mself\u001b[39m\u001b[39m.\u001b[39m_IterableDataset_len_called \u001b[39mis\u001b[39;00m \u001b[39mnot\u001b[39;00m \u001b[39mNone\u001b[39;00m \u001b[39mand\u001b[39;00m \\\n\u001b[0;32m    <a href='file:///c%3A/Users/shich/AppData/Roaming/Python/Python310/site-packages/torch/utils/data/dataloader.py?line=684'>685</a>\u001b[0m         \u001b[39mself\u001b[39m\u001b[39m.\u001b[39m_num_yielded \u001b[39m>\u001b[39m \u001b[39mself\u001b[39m\u001b[39m.\u001b[39m_IterableDataset_len_called:\n",
      "File \u001b[1;32m~\\AppData\\Roaming\\Python\\Python310\\site-packages\\torch\\utils\\data\\dataloader.py:721\u001b[0m, in \u001b[0;36m_SingleProcessDataLoaderIter._next_data\u001b[1;34m(self)\u001b[0m\n\u001b[0;32m    <a href='file:///c%3A/Users/shich/AppData/Roaming/Python/Python310/site-packages/torch/utils/data/dataloader.py?line=718'>719</a>\u001b[0m \u001b[39mdef\u001b[39;00m \u001b[39m_next_data\u001b[39m(\u001b[39mself\u001b[39m):\n\u001b[0;32m    <a href='file:///c%3A/Users/shich/AppData/Roaming/Python/Python310/site-packages/torch/utils/data/dataloader.py?line=719'>720</a>\u001b[0m     index \u001b[39m=\u001b[39m \u001b[39mself\u001b[39m\u001b[39m.\u001b[39m_next_index()  \u001b[39m# may raise StopIteration\u001b[39;00m\n\u001b[1;32m--> <a href='file:///c%3A/Users/shich/AppData/Roaming/Python/Python310/site-packages/torch/utils/data/dataloader.py?line=720'>721</a>\u001b[0m     data \u001b[39m=\u001b[39m \u001b[39mself\u001b[39;49m\u001b[39m.\u001b[39;49m_dataset_fetcher\u001b[39m.\u001b[39;49mfetch(index)  \u001b[39m# may raise StopIteration\u001b[39;00m\n\u001b[0;32m    <a href='file:///c%3A/Users/shich/AppData/Roaming/Python/Python310/site-packages/torch/utils/data/dataloader.py?line=721'>722</a>\u001b[0m     \u001b[39mif\u001b[39;00m \u001b[39mself\u001b[39m\u001b[39m.\u001b[39m_pin_memory:\n\u001b[0;32m    <a href='file:///c%3A/Users/shich/AppData/Roaming/Python/Python310/site-packages/torch/utils/data/dataloader.py?line=722'>723</a>\u001b[0m         data \u001b[39m=\u001b[39m _utils\u001b[39m.\u001b[39mpin_memory\u001b[39m.\u001b[39mpin_memory(data, \u001b[39mself\u001b[39m\u001b[39m.\u001b[39m_pin_memory_device)\n",
      "File \u001b[1;32m~\\AppData\\Roaming\\Python\\Python310\\site-packages\\torch\\utils\\data\\_utils\\fetch.py:49\u001b[0m, in \u001b[0;36m_MapDatasetFetcher.fetch\u001b[1;34m(self, possibly_batched_index)\u001b[0m\n\u001b[0;32m     <a href='file:///c%3A/Users/shich/AppData/Roaming/Python/Python310/site-packages/torch/utils/data/_utils/fetch.py?line=46'>47</a>\u001b[0m \u001b[39mdef\u001b[39;00m \u001b[39mfetch\u001b[39m(\u001b[39mself\u001b[39m, possibly_batched_index):\n\u001b[0;32m     <a href='file:///c%3A/Users/shich/AppData/Roaming/Python/Python310/site-packages/torch/utils/data/_utils/fetch.py?line=47'>48</a>\u001b[0m     \u001b[39mif\u001b[39;00m \u001b[39mself\u001b[39m\u001b[39m.\u001b[39mauto_collation:\n\u001b[1;32m---> <a href='file:///c%3A/Users/shich/AppData/Roaming/Python/Python310/site-packages/torch/utils/data/_utils/fetch.py?line=48'>49</a>\u001b[0m         data \u001b[39m=\u001b[39m [\u001b[39mself\u001b[39m\u001b[39m.\u001b[39mdataset[idx] \u001b[39mfor\u001b[39;00m idx \u001b[39min\u001b[39;00m possibly_batched_index]\n\u001b[0;32m     <a href='file:///c%3A/Users/shich/AppData/Roaming/Python/Python310/site-packages/torch/utils/data/_utils/fetch.py?line=49'>50</a>\u001b[0m     \u001b[39melse\u001b[39;00m:\n\u001b[0;32m     <a href='file:///c%3A/Users/shich/AppData/Roaming/Python/Python310/site-packages/torch/utils/data/_utils/fetch.py?line=50'>51</a>\u001b[0m         data \u001b[39m=\u001b[39m \u001b[39mself\u001b[39m\u001b[39m.\u001b[39mdataset[possibly_batched_index]\n",
      "File \u001b[1;32m~\\AppData\\Roaming\\Python\\Python310\\site-packages\\torch\\utils\\data\\_utils\\fetch.py:49\u001b[0m, in \u001b[0;36m<listcomp>\u001b[1;34m(.0)\u001b[0m\n\u001b[0;32m     <a href='file:///c%3A/Users/shich/AppData/Roaming/Python/Python310/site-packages/torch/utils/data/_utils/fetch.py?line=46'>47</a>\u001b[0m \u001b[39mdef\u001b[39;00m \u001b[39mfetch\u001b[39m(\u001b[39mself\u001b[39m, possibly_batched_index):\n\u001b[0;32m     <a href='file:///c%3A/Users/shich/AppData/Roaming/Python/Python310/site-packages/torch/utils/data/_utils/fetch.py?line=47'>48</a>\u001b[0m     \u001b[39mif\u001b[39;00m \u001b[39mself\u001b[39m\u001b[39m.\u001b[39mauto_collation:\n\u001b[1;32m---> <a href='file:///c%3A/Users/shich/AppData/Roaming/Python/Python310/site-packages/torch/utils/data/_utils/fetch.py?line=48'>49</a>\u001b[0m         data \u001b[39m=\u001b[39m [\u001b[39mself\u001b[39;49m\u001b[39m.\u001b[39;49mdataset[idx] \u001b[39mfor\u001b[39;00m idx \u001b[39min\u001b[39;00m possibly_batched_index]\n\u001b[0;32m     <a href='file:///c%3A/Users/shich/AppData/Roaming/Python/Python310/site-packages/torch/utils/data/_utils/fetch.py?line=49'>50</a>\u001b[0m     \u001b[39melse\u001b[39;00m:\n\u001b[0;32m     <a href='file:///c%3A/Users/shich/AppData/Roaming/Python/Python310/site-packages/torch/utils/data/_utils/fetch.py?line=50'>51</a>\u001b[0m         data \u001b[39m=\u001b[39m \u001b[39mself\u001b[39m\u001b[39m.\u001b[39mdataset[possibly_batched_index]\n",
      "File \u001b[1;32mc:\\Users\\shich\\Code\\music-sheet-parser\\src\\model\\dataset.py:107\u001b[0m, in \u001b[0;36mMusicSheetDataSet.__getitem__\u001b[1;34m(self, index)\u001b[0m\n\u001b[0;32m    <a href='file:///c%3A/Users/shich/Code/music-sheet-parser/src/model/dataset.py?line=105'>106</a>\u001b[0m \u001b[39mdef\u001b[39;00m \u001b[39m__getitem__\u001b[39m(\u001b[39mself\u001b[39m, index):\n\u001b[1;32m--> <a href='file:///c%3A/Users/shich/Code/music-sheet-parser/src/model/dataset.py?line=106'>107</a>\u001b[0m     image \u001b[39m=\u001b[39m \u001b[39mself\u001b[39;49m\u001b[39m.\u001b[39;49m_load_image(\u001b[39mself\u001b[39;49m\u001b[39m.\u001b[39;49msampling_sections[index]\u001b[39m.\u001b[39;49mname)\n\u001b[0;32m    <a href='file:///c%3A/Users/shich/Code/music-sheet-parser/src/model/dataset.py?line=107'>108</a>\u001b[0m     target \u001b[39m=\u001b[39m \u001b[39mself\u001b[39m\u001b[39m.\u001b[39m_load_target(\u001b[39mself\u001b[39m\u001b[39m.\u001b[39msampling_sections[index]\u001b[39m.\u001b[39mname)\n\u001b[0;32m    <a href='file:///c%3A/Users/shich/Code/music-sheet-parser/src/model/dataset.py?line=109'>110</a>\u001b[0m     \u001b[39mreturn\u001b[39;00m crop(image, target, \u001b[39mself\u001b[39m\u001b[39m.\u001b[39msections[index], \u001b[39mself\u001b[39m)\n",
      "File \u001b[1;32mc:\\Users\\shich\\Code\\music-sheet-parser\\src\\model\\dataset.py:100\u001b[0m, in \u001b[0;36mMusicSheetDataSet._load_image\u001b[1;34m(self, image)\u001b[0m\n\u001b[0;32m     <a href='file:///c%3A/Users/shich/Code/music-sheet-parser/src/model/dataset.py?line=97'>98</a>\u001b[0m \u001b[39mdef\u001b[39;00m \u001b[39m_load_image\u001b[39m(\u001b[39mself\u001b[39m, image):\n\u001b[0;32m     <a href='file:///c%3A/Users/shich/Code/music-sheet-parser/src/model/dataset.py?line=98'>99</a>\u001b[0m     path \u001b[39m=\u001b[39m image[\u001b[39m'\u001b[39m\u001b[39mfilename\u001b[39m\u001b[39m'\u001b[39m]\n\u001b[1;32m--> <a href='file:///c%3A/Users/shich/Code/music-sheet-parser/src/model/dataset.py?line=99'>100</a>\u001b[0m     \u001b[39mreturn\u001b[39;00m cv2\u001b[39m.\u001b[39;49mimread(os\u001b[39m.\u001b[39;49mpath\u001b[39m.\u001b[39;49mjoin(\u001b[39mself\u001b[39;49m\u001b[39m.\u001b[39;49mroot, \u001b[39m'\u001b[39;49m\u001b[39mimages\u001b[39;49m\u001b[39m'\u001b[39;49m, path), cv2\u001b[39m.\u001b[39;49mIMREAD_GRAYSCALE)\n",
      "\u001b[1;31mKeyboardInterrupt\u001b[0m: "
     ]
    }
   ],
   "source": [
    "model.train(dataset, 50)"
   ]
  },
  {
   "cell_type": "code",
   "execution_count": null,
   "metadata": {},
   "outputs": [],
   "source": [
    "model.save(\"../saved_models_bars/2\")"
   ]
  },
  {
   "cell_type": "code",
   "execution_count": null,
   "metadata": {},
   "outputs": [
    {
     "name": "stdout",
     "output_type": "stream",
     "text": [
      "3458 2744\n"
     ]
    }
   ],
   "source": [
    "max_x = 0\n",
    "max_y = 0\n",
    "\n",
    "for label in dataset.sections:\n",
    "    max_x = max(label.width, max_x)\n",
    "    max_y = max(label.height, max_y)\n",
    "\n",
    "print(max_x, max_y)"
   ]
  }
 ],
 "metadata": {
  "interpreter": {
   "hash": "26de051ba29f2982a8de78e945f0abaf191376122a1563185a90213a26c5da77"
  },
  "kernelspec": {
   "display_name": "Python 3.10.5 64-bit",
   "language": "python",
   "name": "python3"
  },
  "language_info": {
   "codemirror_mode": {
    "name": "ipython",
    "version": 3
   },
   "file_extension": ".py",
   "mimetype": "text/x-python",
   "name": "python",
   "nbconvert_exporter": "python",
   "pygments_lexer": "ipython3",
   "version": "3.10.5"
  },
  "orig_nbformat": 4
 },
 "nbformat": 4,
 "nbformat_minor": 2
}

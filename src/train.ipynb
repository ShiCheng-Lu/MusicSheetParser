{
 "cells": [
  {
   "cell_type": "code",
   "execution_count": 1,
   "metadata": {},
   "outputs": [
    {
     "name": "stdout",
     "output_type": "stream",
     "text": [
      "cuda NVIDIA GeForce GTX 1080 Ti\n",
      "1.12.1+cu116\n",
      "0.13.1+cu116\n"
     ]
    }
   ],
   "source": [
    "from model.model import MusicSymbolDetector\n",
    "from model.dataset import MusicSheetDataSet"
   ]
  },
  {
   "cell_type": "code",
   "execution_count": null,
   "metadata": {},
   "outputs": [],
   "source": [
    "dataset = MusicSheetDataSet(\"../ds2_dense\", \"train\")\n",
    "dataset.showLabels(0)"
   ]
  },
  {
   "cell_type": "code",
   "execution_count": null,
   "metadata": {},
   "outputs": [],
   "source": [
    "dataset.showLabels(3463)"
   ]
  },
  {
   "cell_type": "code",
   "execution_count": null,
   "metadata": {},
   "outputs": [],
   "source": [
    "model = MusicSymbolDetector()\n",
    "model.train(dataset, 50)"
   ]
  },
  {
   "cell_type": "code",
   "execution_count": 2,
   "metadata": {},
   "outputs": [
    {
     "name": "stdout",
     "output_type": "stream",
     "text": [
      "loaded model at epoch: 10, loss: 0.29134374089762566\n"
     ]
    },
    {
     "name": "stderr",
     "output_type": "stream",
     "text": [
      "100%|██████████| 34/34 [00:13<00:00,  2.57it/s]\n"
     ]
    },
    {
     "name": "stdout",
     "output_type": "stream",
     "text": [
      "{'map': tensor(0.6100), 'map_50': tensor(0.7828), 'map_75': tensor(0.7064), 'map_small': tensor(0.6369), 'map_medium': tensor(0.5632), 'map_large': tensor(0.3750), 'mar_1': tensor(0.4409), 'mar_10': tensor(0.6423), 'mar_100': tensor(0.6438), 'mar_small': tensor(0.6712), 'mar_medium': tensor(0.5895), 'mar_large': tensor(0.5000), 'map_per_class': tensor(-1.), 'mar_100_per_class': tensor(-1.)}\n"
     ]
    }
   ],
   "source": [
    "dataset = MusicSheetDataSet(\"../ds2_dense\", \"test\")\n",
    "model = MusicSymbolDetector().load(\"../best_model.pt\")\n",
    "dataset.random(1000)\n",
    "model.test(dataset)"
   ]
  }
 ],
 "metadata": {
  "interpreter": {
   "hash": "26de051ba29f2982a8de78e945f0abaf191376122a1563185a90213a26c5da77"
  },
  "kernelspec": {
   "display_name": "Python 3.10.5 64-bit",
   "language": "python",
   "name": "python3"
  },
  "language_info": {
   "codemirror_mode": {
    "name": "ipython",
    "version": 3
   },
   "file_extension": ".py",
   "mimetype": "text/x-python",
   "name": "python",
   "nbconvert_exporter": "python",
   "pygments_lexer": "ipython3",
   "version": "3.10.5"
  },
  "orig_nbformat": 4
 },
 "nbformat": 4,
 "nbformat_minor": 2
}

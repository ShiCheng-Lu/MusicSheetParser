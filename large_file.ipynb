{
 "cells": [
  {
   "cell_type": "code",
   "execution_count": 1,
   "metadata": {},
   "outputs": [],
   "source": [
    "# split file\n",
    "import os\n",
    "import math\n",
    "\n",
    "file = \"best_model.pt\"\n",
    "file_size = os.path.getsize(file)\n",
    "size_limit = 100_000_000\n",
    "\n",
    "with open(file, \"rb\") as f:\n",
    "    for i in range(math.ceil(file_size / size_limit)):\n",
    "        data = f.read(size_limit)\n",
    "        with open(f\"{file}_{i}\", \"wb+\") as split_f:\n",
    "            split_f.write(data)"
   ]
  },
  {
   "cell_type": "code",
   "execution_count": 24,
   "metadata": {},
   "outputs": [
    {
     "name": "stdout",
     "output_type": "stream",
     "text": [
      "\n"
     ]
    }
   ],
   "source": [
    "# join file\n",
    "import glob\n",
    "\n",
    "file = \"best_model.pt\"\n",
    "split_f = glob.glob(f'{file}_*')\n",
    "size_limit = 100_000_000\n",
    "data = []\n",
    "print()\n",
    "for i in range(len(split_f)):\n",
    "    with open(f\"{file}_{i}\", \"rb\") as split_f:\n",
    "        data.append(split_f.read(size_limit))\n",
    "with open(file, \"wb+\") as f:\n",
    "    f.writelines(data)"
   ]
  }
 ],
 "metadata": {
  "kernelspec": {
   "display_name": "Python 3",
   "language": "python",
   "name": "python3"
  },
  "language_info": {
   "codemirror_mode": {
    "name": "ipython",
    "version": 3
   },
   "file_extension": ".py",
   "mimetype": "text/x-python",
   "name": "python",
   "nbconvert_exporter": "python",
   "pygments_lexer": "ipython3",
   "version": "3.10.5"
  },
  "orig_nbformat": 4
 },
 "nbformat": 4,
 "nbformat_minor": 2
}

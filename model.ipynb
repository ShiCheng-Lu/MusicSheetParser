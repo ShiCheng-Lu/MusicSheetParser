{
 "cells": [
  {
   "cell_type": "code",
   "execution_count": 1,
   "metadata": {},
   "outputs": [],
   "source": [
    "import torch\n",
    "import torchvision\n",
    "import torch.nn as nn\n",
    "from torch.utils.data import DataLoader\n",
    "import cv2\n",
    "import math\n",
    "import sys\n",
    "from tqdm import tqdm\n",
    "import matplotlib.pyplot as plt\n",
    "from torchvision.utils import draw_bounding_boxes"
   ]
  },
  {
   "cell_type": "code",
   "execution_count": 2,
   "metadata": {},
   "outputs": [
    {
     "name": "stdout",
     "output_type": "stream",
     "text": [
      "cuda NVIDIA GeForce GTX 1080 Ti\n",
      "1.12.1+cu116\n",
      "0.13.1+cu116\n"
     ]
    }
   ],
   "source": [
    "if (torch.cuda.is_available()):\n",
    "    device = torch.device(\"cuda\")\n",
    "    print(device, torch.cuda.get_device_name(0))\n",
    "else:\n",
    "    device = torch.device(\"cpu\")\n",
    "    print(device)\n",
    "print(torch.__version__)\n",
    "print(torchvision.__version__)\n",
    "\n",
    "# device = torch.device(\"cpu\")"
   ]
  },
  {
   "cell_type": "code",
   "execution_count": 3,
   "metadata": {},
   "outputs": [],
   "source": [
    "from dataset import MusicSheetDataSet\n",
    "import random\n",
    "\n",
    "def area(box):\n",
    "    return (box[2] - box[0]) * (box[3] - box[1])\n",
    "\n",
    "def crop(image, target, region, dataset):\n",
    "    boxes = []\n",
    "    labels = []\n",
    "    for annotation in target:\n",
    "        # print(annotation)\n",
    "        orig_box = [x for x in annotation['a_bbox']]\n",
    "        new_box = [\n",
    "            max(orig_box[0], region[0]) - region[0],\n",
    "            max(orig_box[1], region[1]) - region[1],\n",
    "            min(orig_box[2], region[2]) - region[0],\n",
    "            min(orig_box[3], region[3]) - region[1],\n",
    "        ]\n",
    "\n",
    "        if new_box[0] >= new_box[2] or new_box[1] >= new_box[3] or area(new_box) < area(orig_box) * 0.33:\n",
    "            continue\n",
    "\n",
    "        for cat_id in annotation['cat_id']:\n",
    "            if (cat_id == None):\n",
    "                continue\n",
    "\n",
    "            category = dataset.get_category(cat_id)\n",
    "            if (category['annotation_set'] != 'deepscores'):\n",
    "                continue\n",
    "\n",
    "            if (category['name'] in {'stem', 'ledgerLine'}):\n",
    "                break\n",
    "            # if (category['name'] in oneset):\n",
    "            labels.append(int(cat_id))\n",
    "            boxes.append(new_box)\n",
    "    \n",
    "    return (\n",
    "        torch.tensor(image[region[1] : region[3], region[0] : region[2]]).div(255).unsqueeze(0),\n",
    "        {\n",
    "            'boxes': torch.tensor(boxes),\n",
    "            'labels': torch.tensor(labels),\n",
    "        }\n",
    "    )\n",
    "\n",
    "def transform(images, targets, dataset):\n",
    "    image_res = []\n",
    "    target_res = []\n",
    "    for image, target in zip(images, targets):\n",
    "        height, width = image.shape\n",
    "\n",
    "        x = random.randrange(0, width // 2)\n",
    "        y = random.randrange(0, height // 2)\n",
    "        region = [x, y, x + width // 2, y + height // 2]\n",
    "\n",
    "        i, t = crop(image, target, region, dataset)\n",
    "\n",
    "        if t['boxes'].shape[0] == 0:\n",
    "            region = [0, 0, width // 2, height // 2]\n",
    "            i, t = crop(image, target, region, dataset)\n",
    "        \n",
    "        image_res.append(i)\n",
    "        target_res.append(t)\n",
    "    return image_res, target_res\n",
    "\n",
    "dataset = MusicSheetDataSet(\"ds2_dense\", \"train\")"
   ]
  },
  {
   "cell_type": "code",
   "execution_count": 4,
   "metadata": {},
   "outputs": [],
   "source": [
    "import music\n",
    "\n",
    "class MusicSymbolDetector:\n",
    "    def __init__(self):\n",
    "        self.model = torchvision.models.detection.fasterrcnn_resnet50_fpn_v2(\n",
    "            pretrained=True,\n",
    "            num_classes=137,\n",
    "            min_size=1024,\n",
    "            max_size=1024,\n",
    "            box_detections_per_img=300\n",
    "        )\n",
    "\n",
    "        params = [p for p in self.model.parameters() if p.requires_grad]\n",
    "        self.optimizer = torch.optim.Adam(params)\n",
    "        self.epoch = 0\n",
    "        self.loss = 0\n",
    "    \n",
    "    def __call__(self, image):\n",
    "        self.model.to(device)\n",
    "        self.model.eval()\n",
    "        # split image into 6 smaller image for accurate small object detection\n",
    "        height, width = image.shape\n",
    "        box_size = int(width * 0.55)\n",
    "\n",
    "        x_starts = [0, width - box_size]\n",
    "        y_starts = [0, (height - box_size) // 2, height - box_size]\n",
    "\n",
    "        overlap_size_x = int(2 * box_size - width)\n",
    "        overlap_size_y = int(3 * box_size - height) // 2\n",
    "\n",
    "        results = []\n",
    "\n",
    "        x_intersects: list[music.Label] = []\n",
    "        y_intersects: list[music.Label] = []\n",
    "        \n",
    "        def check_x_intersects(x, label: music.Label):\n",
    "            if label.x_min() <= x + overlap_size_x:\n",
    "                for l in x_intersects:\n",
    "                    if label.intersects_with(l) and label.name == l.name:\n",
    "                        label.box = label.union(l).box\n",
    "                        x_intersects.remove(l)\n",
    "            # should be checked against the next x area\n",
    "            if label.x_max() >= x + box_size - overlap_size_x:\n",
    "                x_intersects_next.append(label)\n",
    "                return True\n",
    "            return False\n",
    "\n",
    "        def check_y_intersect(y, label: music.Label):\n",
    "            if label.y_min() <= y + overlap_size_y:\n",
    "                for l in y_intersects:\n",
    "                    if label.intersects_with(l) and label.name == l.name:\n",
    "                        label.box = label.union(l).box\n",
    "                        y_intersects.remove(l)\n",
    "            # should be checked against the next y area\n",
    "            if label.y_max() >= y + box_size - overlap_size_y:\n",
    "                y_intersects_next.append(label)\n",
    "                return True\n",
    "            return False\n",
    "\n",
    "        for y in y_starts:\n",
    "            y_intersects_next = []\n",
    "            for x in x_starts:\n",
    "                x_intersects_next = []\n",
    "\n",
    "                # inference on each sub image\n",
    "                i = torch.tensor(image[y : y + box_size, x : x + box_size]).div(255).unsqueeze_(0).to(device)\n",
    "                result = self.model([i])[0]\n",
    "\n",
    "                result[\"boxes\"][:, (0, 2)] += x\n",
    "                result[\"boxes\"][:, (1, 3)] += y\n",
    "\n",
    "                for box, label in zip(result[\"boxes\"].detach().cpu(), result[\"labels\"].detach().cpu()):\n",
    "                    label = music.Label(\n",
    "                        dataset.get_category(label.item()),\n",
    "                        box,\n",
    "                    )\n",
    "\n",
    "                    if check_x_intersects(x, label): continue\n",
    "                    if check_y_intersect(y, label): continue\n",
    "                    results.append(label)\n",
    "                \n",
    "                # all labels that didn't have intersect are added\n",
    "                for label in x_intersects:\n",
    "                    if check_y_intersect(y, label): continue\n",
    "                    results.append(label)\n",
    "                \n",
    "                x_intersects = x_intersects_next\n",
    "            \n",
    "            # all labels at the end x edge\n",
    "            for label in x_intersects:\n",
    "                if check_y_intersect(y, label): continue\n",
    "                results.append(label)\n",
    "\n",
    "            x_intersects = []\n",
    "            results.extend(y_intersects)\n",
    "\n",
    "        # all labels at the end y edge\n",
    "        results.extend(y_intersects)\n",
    "        \n",
    "        return results\n",
    "    \n",
    "    def save(self, path):\n",
    "        torch.save({\n",
    "            \"model\": self.model.state_dict(),\n",
    "            \"optimizer\": self.optimizer.state_dict(),\n",
    "            \"epoch\": self.epoch,\n",
    "            \"loss\": self.loss,\n",
    "        }, path)\n",
    "\n",
    "    def load(self, path = None):\n",
    "        if path == None:\n",
    "            path = self\n",
    "            self = MusicSymbolDetector()\n",
    "        \n",
    "        data = torch.load(path)\n",
    "        self.model.load_state_dict(data['model'])\n",
    "        self.optimizer.load_state_dict(data['optimizer'])\n",
    "        current_epoch = data['epoch']\n",
    "        \n",
    "        print(\"loaded model at epoch: {}, loss: {}\".format(current_epoch, data['loss']))\n",
    "\n",
    "        # move optimizer to cuda\n",
    "        for state in self.optimizer.state.values():\n",
    "            for k, v in state.items():\n",
    "                if isinstance(v, torch.Tensor):\n",
    "                    state[k] = v.to(device)\n",
    "\n",
    "        return self\n",
    "    \n",
    "    def train(self, dataset : MusicSheetDataSet, epochs : int = 1, transform = None):\n",
    "        self.model.to(device)\n",
    "        self.model.train()\n",
    "        torch.cuda.empty_cache()\n",
    "\n",
    "        data_count = len(dataset)\n",
    "\n",
    "        for _ in range(epochs):\n",
    "            all_losses = 0\n",
    "            all_losses_dict = {}\n",
    "\n",
    "            dataloader = DataLoader(\n",
    "                dataset,\n",
    "                collate_fn=lambda x : zip(*x),\n",
    "                shuffle = True\n",
    "            )\n",
    "\n",
    "            for images, targets in tqdm(dataloader):\n",
    "                if transform != None:\n",
    "                    images, targets = transform(images, targets, dataset)\n",
    "                \n",
    "                images = [image.to(device) for image in images]\n",
    "                targets = [{k: v.to(device) for k, v in t.items()} for t in targets]\n",
    "\n",
    "                self.optimizer.zero_grad(set_to_none=True)\n",
    "\n",
    "                loss_dict: dict[str, torch.Tensor] = self.model(images, targets) # the model computes the loss automatically if we pass in targets\n",
    "\n",
    "                losses: torch.Tensor = sum(loss for loss in loss_dict.values())\n",
    "\n",
    "                loss_value = losses.item()\n",
    "                all_losses += loss_value\n",
    "                \n",
    "                for k, v in loss_dict.items():\n",
    "                    if k not in all_losses_dict:\n",
    "                        all_losses_dict[k] = 0\n",
    "                    all_losses_dict[k] += v\n",
    "                \n",
    "                if not math.isfinite(loss_value):\n",
    "                    print(f\"Loss is {loss_value}, stopping trainig\") # train if loss becomes infinity\n",
    "                    print(loss_dict)\n",
    "                    sys.exit(1)\n",
    "                \n",
    "                losses.backward()\n",
    "                \n",
    "                torch.nn.utils.clip_grad_norm_(self.model.parameters(), 1)\n",
    "                self.optimizer.step()\n",
    "            \n",
    "            self.epoch += 1\n",
    "            self.loss = all_losses / data_count\n",
    "            print(\"Epoch {:>3}, lr: {:.6f}, loss: {:.6f}, {}\".format(\n",
    "                self.epoch,\n",
    "                self.optimizer.param_groups[0]['lr'], \n",
    "                self.loss,\n",
    "                ', '.join(\"{}: {:.6f}\".format(k, v / data_count) for k, v in all_losses_dict.items()),\n",
    "            ))\n",
    "\n",
    "            self.save(f\"model/{self.epoch}\")\n"
   ]
  },
  {
   "cell_type": "code",
   "execution_count": 5,
   "metadata": {},
   "outputs": [
    {
     "name": "stderr",
     "output_type": "stream",
     "text": [
      "100%|██████████| 1362/1362 [06:05<00:00,  3.73it/s]\n"
     ]
    },
    {
     "name": "stdout",
     "output_type": "stream",
     "text": [
      "Epoch   1, lr: 0.001000, loss: 1.621204, loss_classifier: 0.515383, loss_box_reg: 0.433956, loss_objectness: 0.163595, loss_rpn_box_reg: 0.508269\n"
     ]
    },
    {
     "name": "stderr",
     "output_type": "stream",
     "text": [
      "100%|██████████| 1362/1362 [05:59<00:00,  3.79it/s]\n"
     ]
    },
    {
     "name": "stdout",
     "output_type": "stream",
     "text": [
      "Epoch   2, lr: 0.001000, loss: 1.024715, loss_classifier: 0.244193, loss_box_reg: 0.259149, loss_objectness: 0.115200, loss_rpn_box_reg: 0.406173\n"
     ]
    },
    {
     "name": "stderr",
     "output_type": "stream",
     "text": [
      "100%|██████████| 1362/1362 [05:59<00:00,  3.79it/s]\n"
     ]
    },
    {
     "name": "stdout",
     "output_type": "stream",
     "text": [
      "Epoch   3, lr: 0.001000, loss: 0.819167, loss_classifier: 0.164163, loss_box_reg: 0.202000, loss_objectness: 0.087950, loss_rpn_box_reg: 0.365053\n"
     ]
    },
    {
     "name": "stderr",
     "output_type": "stream",
     "text": [
      "100%|██████████| 1362/1362 [05:58<00:00,  3.80it/s]\n"
     ]
    },
    {
     "name": "stdout",
     "output_type": "stream",
     "text": [
      "Epoch   4, lr: 0.001000, loss: 0.737240, loss_classifier: 0.135424, loss_box_reg: 0.180051, loss_objectness: 0.078021, loss_rpn_box_reg: 0.343745\n"
     ]
    },
    {
     "name": "stderr",
     "output_type": "stream",
     "text": [
      "100%|██████████| 1362/1362 [05:55<00:00,  3.84it/s]\n"
     ]
    },
    {
     "name": "stdout",
     "output_type": "stream",
     "text": [
      "Epoch   5, lr: 0.001000, loss: 0.685685, loss_classifier: 0.122057, loss_box_reg: 0.167328, loss_objectness: 0.072595, loss_rpn_box_reg: 0.323704\n"
     ]
    },
    {
     "name": "stderr",
     "output_type": "stream",
     "text": [
      "100%|██████████| 1362/1362 [05:43<00:00,  3.96it/s]\n"
     ]
    },
    {
     "name": "stdout",
     "output_type": "stream",
     "text": [
      "Epoch   6, lr: 0.001000, loss: 0.613555, loss_classifier: 0.109698, loss_box_reg: 0.155050, loss_objectness: 0.060485, loss_rpn_box_reg: 0.288323\n"
     ]
    },
    {
     "name": "stderr",
     "output_type": "stream",
     "text": [
      "100%|██████████| 1362/1362 [05:43<00:00,  3.96it/s]\n"
     ]
    },
    {
     "name": "stdout",
     "output_type": "stream",
     "text": [
      "Epoch   7, lr: 0.001000, loss: 0.571527, loss_classifier: 0.100342, loss_box_reg: 0.146167, loss_objectness: 0.056102, loss_rpn_box_reg: 0.268916\n"
     ]
    },
    {
     "name": "stderr",
     "output_type": "stream",
     "text": [
      "100%|██████████| 1362/1362 [05:43<00:00,  3.97it/s]\n"
     ]
    },
    {
     "name": "stdout",
     "output_type": "stream",
     "text": [
      "Epoch   8, lr: 0.001000, loss: 0.539196, loss_classifier: 0.090510, loss_box_reg: 0.135068, loss_objectness: 0.057157, loss_rpn_box_reg: 0.256462\n"
     ]
    },
    {
     "name": "stderr",
     "output_type": "stream",
     "text": [
      "100%|██████████| 1362/1362 [05:43<00:00,  3.96it/s]\n"
     ]
    },
    {
     "name": "stdout",
     "output_type": "stream",
     "text": [
      "Epoch   9, lr: 0.001000, loss: 0.506877, loss_classifier: 0.085407, loss_box_reg: 0.129356, loss_objectness: 0.051294, loss_rpn_box_reg: 0.240819\n"
     ]
    },
    {
     "name": "stderr",
     "output_type": "stream",
     "text": [
      "100%|██████████| 1362/1362 [05:43<00:00,  3.96it/s]\n"
     ]
    },
    {
     "name": "stdout",
     "output_type": "stream",
     "text": [
      "Epoch  10, lr: 0.001000, loss: 0.480621, loss_classifier: 0.079811, loss_box_reg: 0.124284, loss_objectness: 0.051898, loss_rpn_box_reg: 0.224628\n"
     ]
    },
    {
     "name": "stderr",
     "output_type": "stream",
     "text": [
      "100%|██████████| 1362/1362 [05:43<00:00,  3.97it/s]\n"
     ]
    },
    {
     "name": "stdout",
     "output_type": "stream",
     "text": [
      "Epoch  11, lr: 0.001000, loss: 0.469555, loss_classifier: 0.079472, loss_box_reg: 0.119989, loss_objectness: 0.048009, loss_rpn_box_reg: 0.222084\n"
     ]
    },
    {
     "name": "stderr",
     "output_type": "stream",
     "text": [
      "100%|██████████| 1362/1362 [05:44<00:00,  3.96it/s]\n"
     ]
    },
    {
     "name": "stdout",
     "output_type": "stream",
     "text": [
      "Epoch  12, lr: 0.001000, loss: 0.452740, loss_classifier: 0.072627, loss_box_reg: 0.116362, loss_objectness: 0.047447, loss_rpn_box_reg: 0.216305\n"
     ]
    },
    {
     "name": "stderr",
     "output_type": "stream",
     "text": [
      "100%|██████████| 1362/1362 [05:43<00:00,  3.97it/s]\n"
     ]
    },
    {
     "name": "stdout",
     "output_type": "stream",
     "text": [
      "Epoch  13, lr: 0.001000, loss: 0.437368, loss_classifier: 0.070166, loss_box_reg: 0.116762, loss_objectness: 0.043205, loss_rpn_box_reg: 0.207236\n"
     ]
    },
    {
     "name": "stderr",
     "output_type": "stream",
     "text": [
      "100%|██████████| 1362/1362 [05:43<00:00,  3.96it/s]\n"
     ]
    },
    {
     "name": "stdout",
     "output_type": "stream",
     "text": [
      "Epoch  14, lr: 0.001000, loss: 0.426209, loss_classifier: 0.067067, loss_box_reg: 0.111783, loss_objectness: 0.045705, loss_rpn_box_reg: 0.201654\n"
     ]
    },
    {
     "name": "stderr",
     "output_type": "stream",
     "text": [
      "100%|██████████| 1362/1362 [05:43<00:00,  3.96it/s]\n"
     ]
    },
    {
     "name": "stdout",
     "output_type": "stream",
     "text": [
      "Epoch  15, lr: 0.001000, loss: 0.415663, loss_classifier: 0.067079, loss_box_reg: 0.109582, loss_objectness: 0.042558, loss_rpn_box_reg: 0.196445\n"
     ]
    },
    {
     "name": "stderr",
     "output_type": "stream",
     "text": [
      "100%|██████████| 1362/1362 [05:45<00:00,  3.94it/s]\n"
     ]
    },
    {
     "name": "stdout",
     "output_type": "stream",
     "text": [
      "Epoch  16, lr: 0.001000, loss: 0.402636, loss_classifier: 0.062027, loss_box_reg: 0.104530, loss_objectness: 0.041787, loss_rpn_box_reg: 0.194291\n"
     ]
    },
    {
     "name": "stderr",
     "output_type": "stream",
     "text": [
      "100%|██████████| 1362/1362 [05:43<00:00,  3.96it/s]\n"
     ]
    },
    {
     "name": "stdout",
     "output_type": "stream",
     "text": [
      "Epoch  17, lr: 0.001000, loss: 0.387205, loss_classifier: 0.059891, loss_box_reg: 0.102014, loss_objectness: 0.038540, loss_rpn_box_reg: 0.186760\n"
     ]
    },
    {
     "name": "stderr",
     "output_type": "stream",
     "text": [
      "100%|██████████| 1362/1362 [05:43<00:00,  3.97it/s]\n"
     ]
    },
    {
     "name": "stdout",
     "output_type": "stream",
     "text": [
      "Epoch  18, lr: 0.001000, loss: 0.384656, loss_classifier: 0.058636, loss_box_reg: 0.101505, loss_objectness: 0.040396, loss_rpn_box_reg: 0.184118\n"
     ]
    },
    {
     "name": "stderr",
     "output_type": "stream",
     "text": [
      "100%|██████████| 1362/1362 [05:43<00:00,  3.97it/s]\n"
     ]
    },
    {
     "name": "stdout",
     "output_type": "stream",
     "text": [
      "Epoch  19, lr: 0.001000, loss: 0.377920, loss_classifier: 0.058008, loss_box_reg: 0.100046, loss_objectness: 0.038413, loss_rpn_box_reg: 0.181452\n"
     ]
    },
    {
     "name": "stderr",
     "output_type": "stream",
     "text": [
      "100%|██████████| 1362/1362 [05:38<00:00,  4.02it/s]\n"
     ]
    },
    {
     "name": "stdout",
     "output_type": "stream",
     "text": [
      "Epoch  20, lr: 0.001000, loss: 0.375657, loss_classifier: 0.056361, loss_box_reg: 0.097847, loss_objectness: 0.040651, loss_rpn_box_reg: 0.180798\n"
     ]
    },
    {
     "name": "stderr",
     "output_type": "stream",
     "text": [
      "100%|██████████| 1362/1362 [05:37<00:00,  4.04it/s]\n"
     ]
    },
    {
     "name": "stdout",
     "output_type": "stream",
     "text": [
      "Epoch  21, lr: 0.001000, loss: 0.362491, loss_classifier: 0.055866, loss_box_reg: 0.097215, loss_objectness: 0.037626, loss_rpn_box_reg: 0.171784\n"
     ]
    },
    {
     "name": "stderr",
     "output_type": "stream",
     "text": [
      "100%|██████████| 1362/1362 [05:46<00:00,  3.94it/s]\n"
     ]
    },
    {
     "name": "stdout",
     "output_type": "stream",
     "text": [
      "Epoch  22, lr: 0.001000, loss: 0.353055, loss_classifier: 0.055319, loss_box_reg: 0.095638, loss_objectness: 0.034978, loss_rpn_box_reg: 0.167119\n"
     ]
    },
    {
     "name": "stderr",
     "output_type": "stream",
     "text": [
      "100%|██████████| 1362/1362 [05:45<00:00,  3.95it/s]\n"
     ]
    },
    {
     "name": "stdout",
     "output_type": "stream",
     "text": [
      "Epoch  23, lr: 0.001000, loss: 0.341048, loss_classifier: 0.053063, loss_box_reg: 0.093814, loss_objectness: 0.032346, loss_rpn_box_reg: 0.161825\n"
     ]
    },
    {
     "name": "stderr",
     "output_type": "stream",
     "text": [
      "100%|██████████| 1362/1362 [05:35<00:00,  4.06it/s]\n"
     ]
    },
    {
     "name": "stdout",
     "output_type": "stream",
     "text": [
      "Epoch  24, lr: 0.001000, loss: 0.342870, loss_classifier: 0.052049, loss_box_reg: 0.093378, loss_objectness: 0.033011, loss_rpn_box_reg: 0.164433\n"
     ]
    },
    {
     "name": "stderr",
     "output_type": "stream",
     "text": [
      "100%|██████████| 1362/1362 [05:35<00:00,  4.06it/s]\n"
     ]
    },
    {
     "name": "stdout",
     "output_type": "stream",
     "text": [
      "Epoch  25, lr: 0.001000, loss: 0.336404, loss_classifier: 0.051486, loss_box_reg: 0.092641, loss_objectness: 0.034440, loss_rpn_box_reg: 0.157837\n"
     ]
    },
    {
     "name": "stderr",
     "output_type": "stream",
     "text": [
      "100%|██████████| 1362/1362 [05:34<00:00,  4.07it/s]\n"
     ]
    },
    {
     "name": "stdout",
     "output_type": "stream",
     "text": [
      "Epoch  26, lr: 0.001000, loss: 0.335251, loss_classifier: 0.049961, loss_box_reg: 0.091221, loss_objectness: 0.032958, loss_rpn_box_reg: 0.161111\n"
     ]
    },
    {
     "name": "stderr",
     "output_type": "stream",
     "text": [
      "100%|██████████| 1362/1362 [05:34<00:00,  4.07it/s]\n"
     ]
    },
    {
     "name": "stdout",
     "output_type": "stream",
     "text": [
      "Epoch  27, lr: 0.001000, loss: 0.328095, loss_classifier: 0.051578, loss_box_reg: 0.088522, loss_objectness: 0.033077, loss_rpn_box_reg: 0.154918\n"
     ]
    },
    {
     "name": "stderr",
     "output_type": "stream",
     "text": [
      "100%|██████████| 1362/1362 [05:42<00:00,  3.98it/s]\n"
     ]
    },
    {
     "name": "stdout",
     "output_type": "stream",
     "text": [
      "Epoch  28, lr: 0.001000, loss: 0.323611, loss_classifier: 0.048465, loss_box_reg: 0.087404, loss_objectness: 0.031993, loss_rpn_box_reg: 0.155749\n"
     ]
    },
    {
     "name": "stderr",
     "output_type": "stream",
     "text": [
      "100%|██████████| 1362/1362 [05:43<00:00,  3.96it/s]\n"
     ]
    },
    {
     "name": "stdout",
     "output_type": "stream",
     "text": [
      "Epoch  29, lr: 0.001000, loss: 0.324851, loss_classifier: 0.048680, loss_box_reg: 0.088061, loss_objectness: 0.032563, loss_rpn_box_reg: 0.155546\n"
     ]
    },
    {
     "name": "stderr",
     "output_type": "stream",
     "text": [
      "100%|██████████| 1362/1362 [05:44<00:00,  3.96it/s]\n"
     ]
    },
    {
     "name": "stdout",
     "output_type": "stream",
     "text": [
      "Epoch  30, lr: 0.001000, loss: 0.312373, loss_classifier: 0.044997, loss_box_reg: 0.086739, loss_objectness: 0.029604, loss_rpn_box_reg: 0.151034\n"
     ]
    },
    {
     "name": "stderr",
     "output_type": "stream",
     "text": [
      "100%|██████████| 1362/1362 [05:44<00:00,  3.95it/s]\n"
     ]
    },
    {
     "name": "stdout",
     "output_type": "stream",
     "text": [
      "Epoch  31, lr: 0.001000, loss: 0.312123, loss_classifier: 0.045868, loss_box_reg: 0.084014, loss_objectness: 0.031803, loss_rpn_box_reg: 0.150438\n"
     ]
    },
    {
     "name": "stderr",
     "output_type": "stream",
     "text": [
      "100%|██████████| 1362/1362 [05:44<00:00,  3.95it/s]\n"
     ]
    },
    {
     "name": "stdout",
     "output_type": "stream",
     "text": [
      "Epoch  32, lr: 0.001000, loss: 0.305555, loss_classifier: 0.045345, loss_box_reg: 0.083847, loss_objectness: 0.028783, loss_rpn_box_reg: 0.147580\n"
     ]
    },
    {
     "name": "stderr",
     "output_type": "stream",
     "text": [
      "100%|██████████| 1362/1362 [05:43<00:00,  3.96it/s]\n"
     ]
    },
    {
     "name": "stdout",
     "output_type": "stream",
     "text": [
      "Epoch  33, lr: 0.001000, loss: 0.305086, loss_classifier: 0.043794, loss_box_reg: 0.083478, loss_objectness: 0.030361, loss_rpn_box_reg: 0.147453\n"
     ]
    },
    {
     "name": "stderr",
     "output_type": "stream",
     "text": [
      "100%|██████████| 1362/1362 [05:43<00:00,  3.97it/s]\n"
     ]
    },
    {
     "name": "stdout",
     "output_type": "stream",
     "text": [
      "Epoch  34, lr: 0.001000, loss: 0.305119, loss_classifier: 0.045072, loss_box_reg: 0.083029, loss_objectness: 0.029131, loss_rpn_box_reg: 0.147887\n"
     ]
    },
    {
     "name": "stderr",
     "output_type": "stream",
     "text": [
      "100%|██████████| 1362/1362 [05:43<00:00,  3.96it/s]\n"
     ]
    },
    {
     "name": "stdout",
     "output_type": "stream",
     "text": [
      "Epoch  35, lr: 0.001000, loss: 0.302196, loss_classifier: 0.044761, loss_box_reg: 0.083537, loss_objectness: 0.029157, loss_rpn_box_reg: 0.144741\n"
     ]
    },
    {
     "name": "stderr",
     "output_type": "stream",
     "text": [
      "100%|██████████| 1362/1362 [05:45<00:00,  3.94it/s]\n"
     ]
    },
    {
     "name": "stdout",
     "output_type": "stream",
     "text": [
      "Epoch  36, lr: 0.001000, loss: 0.293683, loss_classifier: 0.045380, loss_box_reg: 0.081817, loss_objectness: 0.027724, loss_rpn_box_reg: 0.138763\n"
     ]
    },
    {
     "name": "stderr",
     "output_type": "stream",
     "text": [
      "100%|██████████| 1362/1362 [05:45<00:00,  3.95it/s]\n"
     ]
    },
    {
     "name": "stdout",
     "output_type": "stream",
     "text": [
      "Epoch  37, lr: 0.001000, loss: 0.292348, loss_classifier: 0.044763, loss_box_reg: 0.080545, loss_objectness: 0.027893, loss_rpn_box_reg: 0.139147\n"
     ]
    },
    {
     "name": "stderr",
     "output_type": "stream",
     "text": [
      "100%|██████████| 1362/1362 [05:43<00:00,  3.96it/s]\n"
     ]
    },
    {
     "name": "stdout",
     "output_type": "stream",
     "text": [
      "Epoch  38, lr: 0.001000, loss: 0.291714, loss_classifier: 0.043525, loss_box_reg: 0.080594, loss_objectness: 0.027785, loss_rpn_box_reg: 0.139810\n"
     ]
    },
    {
     "name": "stderr",
     "output_type": "stream",
     "text": [
      "100%|██████████| 1362/1362 [05:44<00:00,  3.96it/s]\n"
     ]
    },
    {
     "name": "stdout",
     "output_type": "stream",
     "text": [
      "Epoch  39, lr: 0.001000, loss: 0.289005, loss_classifier: 0.042024, loss_box_reg: 0.079639, loss_objectness: 0.027971, loss_rpn_box_reg: 0.139370\n"
     ]
    },
    {
     "name": "stderr",
     "output_type": "stream",
     "text": [
      "100%|██████████| 1362/1362 [05:44<00:00,  3.95it/s]\n"
     ]
    },
    {
     "name": "stdout",
     "output_type": "stream",
     "text": [
      "Epoch  40, lr: 0.001000, loss: 0.286011, loss_classifier: 0.040400, loss_box_reg: 0.080249, loss_objectness: 0.026503, loss_rpn_box_reg: 0.138858\n"
     ]
    },
    {
     "name": "stderr",
     "output_type": "stream",
     "text": [
      "100%|██████████| 1362/1362 [05:44<00:00,  3.96it/s]\n"
     ]
    },
    {
     "name": "stdout",
     "output_type": "stream",
     "text": [
      "Epoch  41, lr: 0.001000, loss: 0.284172, loss_classifier: 0.040412, loss_box_reg: 0.079164, loss_objectness: 0.027172, loss_rpn_box_reg: 0.137424\n"
     ]
    },
    {
     "name": "stderr",
     "output_type": "stream",
     "text": [
      "100%|██████████| 1362/1362 [05:43<00:00,  3.96it/s]\n"
     ]
    },
    {
     "name": "stdout",
     "output_type": "stream",
     "text": [
      "Epoch  42, lr: 0.001000, loss: 0.281532, loss_classifier: 0.040682, loss_box_reg: 0.078064, loss_objectness: 0.026376, loss_rpn_box_reg: 0.136410\n"
     ]
    },
    {
     "name": "stderr",
     "output_type": "stream",
     "text": [
      "100%|██████████| 1362/1362 [05:43<00:00,  3.96it/s]\n"
     ]
    },
    {
     "name": "stdout",
     "output_type": "stream",
     "text": [
      "Epoch  43, lr: 0.001000, loss: 0.281440, loss_classifier: 0.041453, loss_box_reg: 0.077616, loss_objectness: 0.026817, loss_rpn_box_reg: 0.135554\n"
     ]
    },
    {
     "name": "stderr",
     "output_type": "stream",
     "text": [
      "100%|██████████| 1362/1362 [05:45<00:00,  3.94it/s]\n"
     ]
    },
    {
     "name": "stdout",
     "output_type": "stream",
     "text": [
      "Epoch  44, lr: 0.001000, loss: 0.279434, loss_classifier: 0.041759, loss_box_reg: 0.077200, loss_objectness: 0.026095, loss_rpn_box_reg: 0.134380\n"
     ]
    },
    {
     "name": "stderr",
     "output_type": "stream",
     "text": [
      "100%|██████████| 1362/1362 [05:44<00:00,  3.96it/s]\n"
     ]
    },
    {
     "name": "stdout",
     "output_type": "stream",
     "text": [
      "Epoch  45, lr: 0.001000, loss: 0.274796, loss_classifier: 0.041519, loss_box_reg: 0.076678, loss_objectness: 0.024016, loss_rpn_box_reg: 0.132582\n"
     ]
    },
    {
     "name": "stderr",
     "output_type": "stream",
     "text": [
      "100%|██████████| 1362/1362 [05:44<00:00,  3.96it/s]\n"
     ]
    },
    {
     "name": "stdout",
     "output_type": "stream",
     "text": [
      "Epoch  46, lr: 0.001000, loss: 0.275879, loss_classifier: 0.041842, loss_box_reg: 0.076932, loss_objectness: 0.025141, loss_rpn_box_reg: 0.131963\n"
     ]
    },
    {
     "name": "stderr",
     "output_type": "stream",
     "text": [
      "100%|██████████| 1362/1362 [05:44<00:00,  3.96it/s]\n"
     ]
    },
    {
     "name": "stdout",
     "output_type": "stream",
     "text": [
      "Epoch  47, lr: 0.001000, loss: 0.273275, loss_classifier: 0.041201, loss_box_reg: 0.076404, loss_objectness: 0.026600, loss_rpn_box_reg: 0.129070\n"
     ]
    },
    {
     "name": "stderr",
     "output_type": "stream",
     "text": [
      "100%|██████████| 1362/1362 [05:43<00:00,  3.96it/s]\n"
     ]
    },
    {
     "name": "stdout",
     "output_type": "stream",
     "text": [
      "Epoch  48, lr: 0.001000, loss: 0.259699, loss_classifier: 0.036092, loss_box_reg: 0.072667, loss_objectness: 0.024647, loss_rpn_box_reg: 0.126293\n"
     ]
    },
    {
     "name": "stderr",
     "output_type": "stream",
     "text": [
      "100%|██████████| 1362/1362 [05:44<00:00,  3.95it/s]\n"
     ]
    },
    {
     "name": "stdout",
     "output_type": "stream",
     "text": [
      "Epoch  49, lr: 0.001000, loss: 0.267926, loss_classifier: 0.037231, loss_box_reg: 0.074314, loss_objectness: 0.025478, loss_rpn_box_reg: 0.130903\n"
     ]
    },
    {
     "name": "stderr",
     "output_type": "stream",
     "text": [
      "100%|██████████| 1362/1362 [05:44<00:00,  3.95it/s]\n"
     ]
    },
    {
     "name": "stdout",
     "output_type": "stream",
     "text": [
      "Epoch  50, lr: 0.001000, loss: 0.266888, loss_classifier: 0.038522, loss_box_reg: 0.076268, loss_objectness: 0.023880, loss_rpn_box_reg: 0.128218\n"
     ]
    }
   ],
   "source": [
    "# detector = MusicSymbolDetector()\n",
    "# detector.train(dataset, 50, transform)"
   ]
  },
  {
   "cell_type": "code",
   "execution_count": 6,
   "metadata": {},
   "outputs": [],
   "source": [
    "detector = MusicSymbolDetector.load(\"model/50\")"
   ]
  },
  {
   "cell_type": "code",
   "execution_count": 7,
   "metadata": {},
   "outputs": [
    {
     "data": {
      "image/png": "[encoded data removed]",
      "text/plain": [
       "<Figure size 640x480 with 1 Axes>"
      ]
     },
     "metadata": {},
     "output_type": "display_data"
    }
   ],
   "source": [
    "# img = cv2.imread(\"ds2_dense/images/lg-900267602436792595-aug-gutenberg1939--page-4.png\", cv2.IMREAD_GRAYSCALE)\n",
    "img = cv2.imread(\"sheets/bohemia rhapsody.png\", cv2.IMREAD_GRAYSCALE)\n",
    "\n",
    "res = detector(img)\n",
    "\n",
    "boxes = []\n",
    "labels = []\n",
    "\n",
    "for label in res:\n",
    "    boxes.append(label.box if torch.is_tensor(label.box) else torch.stack(label.box))\n",
    "    labels.append(label.name)\n",
    "\n",
    "plt.imshow(draw_bounding_boxes(torch.tensor(img).unsqueeze(0), torch.stack(boxes), labels).moveaxis(0, 2))\n",
    "plt.savefig(\"img2.png\", dpi=800)\n"
   ]
  },
  {
   "cell_type": "code",
   "execution_count": 8,
   "metadata": {},
   "outputs": [
    {
     "name": "stdout",
     "output_type": "stream",
     "text": [
      "1.4148148148148147 1.4138398914518318\n"
     ]
    }
   ],
   "source": [
    "from dataset import MusicSheetDataSet\n",
    "\n",
    "max_asp = 0\n",
    "min_asp = 100\n",
    "\n",
    "def trans(image, target):\n",
    "    global max_asp, min_asp\n",
    "\n",
    "    y, x = image.shape\n",
    "\n",
    "    asp = y / x\n",
    "    if asp > max_asp:\n",
    "        max_asp = asp\n",
    "    if asp < min_asp:\n",
    "        min_asp = asp\n",
    "\n",
    "\n",
    "x = MusicSheetDataSet(\"ds2_dense\", \"train\", trans)\n",
    "\n",
    "for i in x:\n",
    "    pass\n",
    "\n",
    "print(max_asp, min_asp)\n",
    "\n",
    "# image, target = dataset[0]\n",
    "# print(image.shape)\n",
    "# _, x, y = image.shape\n",
    "\n",
    "\n",
    "# scaleX = 800 / x\n",
    "# scaleY = 800 / y\n",
    "\n",
    "# # image = cv2.resize(image.mul(255).type(torch.uint8).numpy(), dsize=(800, 800))\n",
    "\n",
    "# # target = model(image.unsqueeze(0).to(device))[0]\n",
    "\n",
    "# plt.imshow(draw_bounding_boxes(\n",
    "#     image.mul(255).type(torch.uint8), \n",
    "#     torch.concat([torch.tensor([b[0] * scaleX, b[1] * scaleY, b[2] * scaleX, b[3] * scaleY]).unsqueeze(0) for b in target['boxes']]), \n",
    "#     [oneset_rev[x.item()] for x in target['labels']]\n",
    "# ).moveaxis(0, 2))\n",
    "# plt.savefig(\"img.png\", dpi=800)\n",
    "\n",
    "\n",
    "\n"
   ]
  }
 ],
 "metadata": {
  "interpreter": {
   "hash": "26de051ba29f2982a8de78e945f0abaf191376122a1563185a90213a26c5da77"
  },
  "kernelspec": {
   "display_name": "Python 3.10.5 64-bit",
   "language": "python",
   "name": "python3"
  },
  "language_info": {
   "codemirror_mode": {
    "name": "ipython",
    "version": 3
   },
   "file_extension": ".py",
   "mimetype": "text/x-python",
   "name": "python",
   "nbconvert_exporter": "python",
   "pygments_lexer": "ipython3",
   "version": "3.10.5"
  },
  "orig_nbformat": 4
 },
 "nbformat": 4,
 "nbformat_minor": 2
}
